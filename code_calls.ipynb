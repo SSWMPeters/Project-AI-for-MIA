{
 "cells": [
  {
   "cell_type": "code",
   "execution_count": null,
   "metadata": {},
   "outputs": [],
   "source": [
    "import VAE_code as vae\n",
    "import CNN_code as cnn"
   ]
  },
  {
   "cell_type": "code",
   "execution_count": null,
   "metadata": {},
   "outputs": [],
   "source": [
    "# Define the base directory where the dataset is located\n",
    "base_dir = r'C:\\Users\\20213002\\.vscode\\Y3Q3 Project AI MIA'\n",
    "\n",
    "# Define the model name\n",
    "model_name = 'CVEA_Project_AI_version_1'\n",
    "\n",
    "# Define the file path for saving the model architecture\n",
    "model_filepath = model_name + '.json'\n",
    "\n",
    "# Define the file path for saving the model weights\n",
    "weights_filepath = model_name + '_weights.hdf5'\n",
    "\n",
    "# Batch size for training\n",
    "batch_size = 32\n",
    "\n",
    "# Image size\n",
    "img_size = 96\n",
    "\n",
    "# The number of epochs for training\n",
    "nr_epochs = 50\n",
    "\n",
    "#The split ratio for validation data\n",
    "split = 0.01\n",
    "\n",
    "# The class type (assuming binary classification)\n",
    "class_type = 0\n",
    "\n",
    "# latent dimensions for the VAE\n",
    "latent_dim = 100\n",
    "\n",
    "# Number of images displayed\n",
    "n = 10\n",
    "\n",
    "print('Model name is {}, class {}'.format(model_name, class_type))\n",
    "print('Parameters-->\\n Number of epochs: {}\\n Batch size: {}\\n Validation split: {}\\n Latend dim: {}'.format(nr_epochs, batch_size, split, latent_dim))"
   ]
  },
  {
   "cell_type": "code",
   "execution_count": null,
   "metadata": {},
   "outputs": [],
   "source": [
    "# Perform autoencoder for specified classes (for both classes = [0,1])\n",
    "classes = [0,1]\n",
    "for i in classes:\n",
    "    # Get data generators for the specified class\n",
    "    train_gen, val_gen = vae.get_pcam_generators(base_dir, batch_size_gen=batch_size, class_type=i)\n",
    "    \n",
    "    # Construct VAE model and train it\n",
    "    model = vae.construct_vae(train_gen, val_gen, weights_filepath, model_name, nr_epochs, latent_dim)\n",
    "    \n",
    "    # Reconstruct and display images\n",
    "    vae.reconstruct_img(model, val_gen)\n",
    "    \n",
    "    # Generate new images and save them\n",
    "    vae.generate_new_img(model, base_dir, class_type=i, num_samples=n)"
   ]
  },
  {
   "cell_type": "code",
   "execution_count": null,
   "metadata": {},
   "outputs": [],
   "source": [
    "cnn.calculate_and_plot_ROC_AUC(model_name=model_name+'_dense')"
   ]
  },
  {
   "cell_type": "code",
   "execution_count": null,
   "metadata": {},
   "outputs": [],
   "source": [
    "cnn.calculate_and_plot_ROC_AUC(type='conv', model_name=model_name+'_conv')"
   ]
  }
 ],
 "metadata": {
  "language_info": {
   "name": "python"
  }
 },
 "nbformat": 4,
 "nbformat_minor": 2
}
