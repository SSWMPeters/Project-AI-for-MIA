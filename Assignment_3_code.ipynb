{
 "cells": [
  {
   "cell_type": "markdown",
   "metadata": {},
   "source": [
    "# Assignment 3 code\n",
    "\n",
    "*Group 11*"
   ]
  },
  {
   "cell_type": "markdown",
   "metadata": {},
   "source": [
    "Importstatements"
   ]
  },
  {
   "cell_type": "code",
   "execution_count": 64,
   "metadata": {},
   "outputs": [],
   "source": [
    "# import required packages\n",
    "import os\n",
    "import numpy as np\n",
    "import matplotlib.pyplot as plt\n",
    "import tensorflow as tf\n",
    "from tensorflow.keras.preprocessing.image import ImageDataGenerator\n",
    "from tensorflow.keras.layers import GlobalAveragePooling2D\n",
    "from tensorflow.keras.models import Sequential\n",
    "from tensorflow.keras.layers import Dense, Flatten\n",
    "from tensorflow.keras.layers import Conv2D, MaxPool2D\n",
    "from tensorflow.keras.optimizers import SGD\n",
    "from tensorflow.keras.callbacks import ModelCheckpoint, TensorBoard\n",
    "from sklearn.metrics import roc_curve, auc, classification_report, confusion_matrix\n",
    "\n",
    "\n",
    "#setting the variable values:\n",
    "\n",
    "# the size of the images in the PCAM dataset\n",
    "IMAGE_SIZE = 96\n",
    "\n",
    "#the pathway for the train+val data\n",
    "path = 'C:/Users/20213002/.vscode/Y3Q3 Project AI MIA'\n",
    "# save the model and weights\n",
    "model_name = 'cnn_model_group_11'"
   ]
  },
  {
   "cell_type": "markdown",
   "metadata": {},
   "source": [
    "Causing the image data to be read batch by batch, so only a single batch of images needs to be stored in memory at one time point"
   ]
  },
  {
   "cell_type": "code",
   "execution_count": 65,
   "metadata": {},
   "outputs": [],
   "source": [
    "def get_pcam_generators(base_dir, train_batch_size=32, val_batch_size=32):\n",
    "    \"\"\"\n",
    "    Uses the ImageDataGenerator function from the Keras API to return images in batches,\n",
    "    train_gen for the training data and val_gen for the validation data.\n",
    "\n",
    "    Args:\n",
    "        base_dir (str): Base directory containing the dataset.\n",
    "        train_batch_size (int): Batch size for training data. Default is 32.\n",
    "        val_batch_size (int): Batch size for validation data. Default is 32.\n",
    "\n",
    "    Returns:\n",
    "        tuple: A tuple containing train_gen and val_gen, both are generators.\n",
    "    \"\"\"\n",
    "    # Dataset parameters\n",
    "    TRAIN_PATH = os.path.join(base_dir, 'train+val', 'train')\n",
    "    VALID_PATH = os.path.join(base_dir, 'train+val', 'valid')\n",
    "    RESCALING_FACTOR = 1./255\n",
    "    \n",
    "    # Instantiate data generators\n",
    "    datagen = ImageDataGenerator(rescale=RESCALING_FACTOR)\n",
    "\n",
    "    # Generate data batches for training and validation sets\n",
    "    train_gen = datagen.flow_from_directory(TRAIN_PATH,\n",
    "                                            target_size=(IMAGE_SIZE, IMAGE_SIZE),\n",
    "                                            batch_size=train_batch_size,\n",
    "                                            class_mode='binary')\n",
    "\n",
    "    val_gen = datagen.flow_from_directory(VALID_PATH,\n",
    "                                          target_size=(IMAGE_SIZE, IMAGE_SIZE),\n",
    "                                          batch_size=val_batch_size,\n",
    "                                          class_mode='binary',\n",
    "                                          shuffle=False)\n",
    "    \n",
    "    return train_gen, val_gen\n"
   ]
  },
  {
   "cell_type": "markdown",
   "metadata": {},
   "source": [
    "Functions for creating and training the model"
   ]
  },
  {
   "cell_type": "code",
   "execution_count": 66,
   "metadata": {},
   "outputs": [],
   "source": [
    "def get_model(kernel_size=(3,3), pool_size=(4,4), first_filters=32, second_filters=64):\n",
    "    \"\"\"\n",
    "    Generates a convolutional neural network model with configurable parameters.\n",
    "\n",
    "    Args:\n",
    "        kernel_size (tuple): Tuple specifying the height and width of the 2D convolution window. Default is (3, 3).\n",
    "        pool_size (tuple): Tuple specifying the factor by which to downscale in the pooling operation. Default is (4, 4).\n",
    "        first_filters (int): Number of filters in the first convolutional layer. Default is 32.\n",
    "        second_filters (int): Number of filters in the second convolutional layer. Default is 64.\n",
    "\n",
    "    Returns:\n",
    "        model: A Keras Sequential model.\n",
    "    \"\"\"\n",
    "    # Build the model\n",
    "    model = Sequential()\n",
    "\n",
    "    # Add convolutional layers\n",
    "    model.add(Conv2D(first_filters, kernel_size, activation='relu', padding='same', input_shape=(IMAGE_SIZE, IMAGE_SIZE, 3)))\n",
    "    model.add(MaxPool2D(pool_size=pool_size))\n",
    "\n",
    "    model.add(Conv2D(second_filters, kernel_size, activation='relu', padding='same'))\n",
    "    model.add(MaxPool2D(pool_size=pool_size))\n",
    "\n",
    "    # Flatten the output to feed into dense layers\n",
    "    model.add(Flatten())\n",
    "\n",
    "    # Add dense layers\n",
    "    model.add(Dense(64, activation='relu'))\n",
    "    model.add(Dense(1, activation='sigmoid'))\n",
    "\n",
    "    # Compile the model\n",
    "    model.compile(SGD(learning_rate=0.01, momentum=0.95), loss='binary_crossentropy', metrics=[tf.keras.metrics.AUC(),'accuracy'])\n",
    "\n",
    "    return model\n",
    "\n",
    "def train_model(model, train_gen, val_gen, weights_filepath, model_name, epochs=1):\n",
    "    \"\"\"\n",
    "    Trains the provided model using the given data generators and saves the best weights.\n",
    "\n",
    "    Args:\n",
    "        model: The Keras Sequential model to train.\n",
    "        train_gen: Generator for training data.\n",
    "        val_gen: Generator for validation data.\n",
    "        weights_filepath (str): Filepath to save the best weights.\n",
    "        model_name (str): Name of the model, used for TensorBoard logging.\n",
    "        epochs (int): Number of epochs to train the model for. Default is 1.\n",
    "\n",
    "    Returns:\n",
    "        history: History object containing training metrics.\n",
    "    \"\"\"\n",
    "\n",
    "    model_filepath = model_name + '.json'\n",
    "    model_json = model.to_json() # serialize model to JSON\n",
    "    with open(model_filepath, 'w') as json_file:\n",
    "        json_file.write(model_json)\n",
    "\n",
    "    # Define callbacks\n",
    "    checkpoint = ModelCheckpoint(weights_filepath, monitor='val_loss', verbose=1, save_best_only=True, mode='min')\n",
    "    tensorboard = TensorBoard(log_dir=os.path.join('logs', model_name))\n",
    "    callbacks_list = [checkpoint, tensorboard]\n",
    "\n",
    "    # Train the model\n",
    "    train_steps = train_gen.n // train_gen.batch_size\n",
    "    val_steps = val_gen.n // val_gen.batch_size\n",
    "\n",
    "    history = model.fit(train_gen, steps_per_epoch=train_steps, \n",
    "                        validation_data=val_gen,\n",
    "                        validation_steps=val_steps,\n",
    "                        epochs=epochs,\n",
    "                        callbacks=callbacks_list)\n",
    "    return history\n",
    "\n",
    "def get_fcn_model(first_filters=32, second_filters=64, kernel_size=(3,3), pool_size=(4,4)):\n",
    "    \"\"\"\n",
    "    Generates a fully convolutional neural network model with configurable parameters.\n",
    "\n",
    "    Args:\n",
    "        first_filters (int): Number of filters in the first convolutional layer. Default is 32.\n",
    "        second_filters (int): Number of filters in the second convolutional layer. Default is 64.\n",
    "        kernel_size (tuple): Tuple specifying the height and width of the 2D convolution window. Default is (3, 3).\n",
    "        pool_size (tuple): Tuple specifying the factor by which to downscale in the pooling operation. Default is (4, 4).\n",
    "\n",
    "    Returns:\n",
    "        model: A Keras Sequential model.\n",
    "    \"\"\"\n",
    "    # Build the model\n",
    "    model = Sequential()\n",
    "\n",
    "    # Add convolutional layers\n",
    "    model.add(Conv2D(first_filters, kernel_size, activation='relu', padding='same', input_shape=(IMAGE_SIZE, IMAGE_SIZE, 3)))\n",
    "    model.add(MaxPool2D(pool_size=pool_size))\n",
    "\n",
    "    model.add(Conv2D(second_filters, kernel_size, activation='relu', padding='same'))\n",
    "    model.add(MaxPool2D(pool_size=pool_size))\n",
    "\n",
    "    model.add(Conv2D(second_filters, kernel_size, activation='relu', padding='same'))\n",
    "    model.add(MaxPool2D(pool_size=pool_size))\n",
    "\n",
    "    # Output layer\n",
    "    model.add(Conv2D(1, kernel_size, activation='sigmoid', padding='same'))\n",
    "    model.add(Flatten())\n",
    "    \n",
    "    model.add(Dense(1, activation='sigmoid'))\n",
    "\n",
    "    # Compile the model\n",
    "    model.compile(SGD(learning_rate=0.01, momentum=0.95), loss='binary_crossentropy', metrics=[tf.keras.metrics.AUC(),'accuracy'])\n",
    "\n",
    "    return model\n",
    "\n",
    "\n"
   ]
  },
  {
   "cell_type": "markdown",
   "metadata": {},
   "source": [
    "Functions regarding ROC and AUC"
   ]
  },
  {
   "cell_type": "code",
   "execution_count": 67,
   "metadata": {},
   "outputs": [],
   "source": [
    "def calculate_roc_and_auc(model, val_gen):\n",
    "    \"\"\"\n",
    "    Performs the calculations necessary for the ROC curve and its AUC value.\n",
    "\n",
    "    Args:\n",
    "        model: The trained Keras model.\n",
    "        val_gen: Generator for validation data.\n",
    "\n",
    "    Returns:\n",
    "        tuple: False positive rate, true positive rate, and AUC value.\n",
    "    \"\"\"\n",
    "    # Predict probabilities for the validation set\n",
    "    predictions = model.predict(val_gen)\n",
    "\n",
    "    # Calculate the false positive rate (FPR) and true positive rate (TPR)\n",
    "    fpr, tpr, thresholds = roc_curve(val_gen.labels, predictions)\n",
    "    \n",
    "    # Calculate the area under the ROC curve (AUC)\n",
    "    roc_auc = auc(fpr, tpr)\n",
    "\n",
    "    # Print classification report\n",
    "    predictions[predictions <= 0.5] = 0.\n",
    "    predictions[predictions > 0.5] = 1.\n",
    "    print(classification_report(val_gen.labels, predictions))\n",
    "    print(confusion_matrix(val_gen.labels, predictions))\n",
    "    \n",
    "    return fpr, tpr, roc_auc\n",
    "\n",
    "def plot_roc_curve(fpr, tpr, roc_auc):\n",
    "    \"\"\"\n",
    "    Plot the ROC curve using the false positive rate, true positive rate, and AUC value.\n",
    "\n",
    "    Args:\n",
    "        fpr (array): False positive rate.\n",
    "        tpr (array): True positive rate.\n",
    "        roc_auc (float): Area under the ROC curve.\n",
    "    \"\"\"\n",
    "    # Plot the ROC curve\n",
    "    plt.figure(figsize=(8, 6))\n",
    "    plt.plot(fpr, tpr, color='gray', lw=2, label=\"ROC curve (area = %0.2f)\" % roc_auc)\n",
    "    plt.plot([0, 1], [0, 1], color='gray', linestyle='--')\n",
    "    plt.xlabel(\"False Positive Rate\")\n",
    "    plt.ylabel(\"True Positive Rate\")\n",
    "    plt.title(\"Receiver Operating Characteristic (ROC) Curve\")\n",
    "    plt.legend(loc=\"lower right\")\n",
    "    plt.show()\n",
    "\n",
    "def calculate_and_plot_ROC_AUC(type='dense', model_name='my_model'):\n",
    "    \"\"\"\n",
    "    Combine different functions to create and train the model, and to calculate and plot the ROC curve and AUC value.\n",
    "\n",
    "    Args:\n",
    "        type (str): Type of model to use ('dense' or 'conv'). Default is 'dense'.\n",
    "        model_name (str): Name of the model.\n",
    "\n",
    "    \"\"\"\n",
    "    # Get the model\n",
    "    if type == 'dense':\n",
    "        model = get_model()\n",
    "    elif type == 'conv':\n",
    "        model = get_fcn_model()\n",
    "\n",
    "    for layer in model.layers:\n",
    "        print(layer.output_shape)\n",
    "\n",
    "    # Get the data generators\n",
    "    train_gen, val_gen = get_pcam_generators(path)\n",
    "    \n",
    "    model_filepath = model_name + '.json'\n",
    "    weights_filepath = model_name + '_weights.hdf5'\n",
    "\n",
    "    # Train the model\n",
    "    train_model(model, train_gen, val_gen, weights_filepath, model_filepath, epochs=3)\n",
    "\n",
    "    # Load the trained model weights\n",
    "    model.load_weights(weights_filepath)\n",
    "\n",
    "    # Evaluate the model\n",
    "    score = model.evaluate(val_gen)\n",
    "    print(\"Loss:\", score[0])\n",
    "    print(\"Accuracy:\", score[1])\n",
    "    \n",
    "    # Calculate ROC and AUC\n",
    "    fpr, tpr, roc_auc = calculate_roc_and_auc(model, val_gen)\n",
    "    \n",
    "    # Plot ROC curve\n",
    "    plot_roc_curve(fpr, tpr, roc_auc)\n",
    "    \n",
    "    print(\"AUC:\", roc_auc)\n",
    "\n"
   ]
  },
  {
   "cell_type": "markdown",
   "metadata": {},
   "source": [
    "## Excercise 1\n",
    "\n",
    "*Perform ROC curve analysis and computation of the AUC for your model.*"
   ]
  },
  {
   "cell_type": "code",
   "execution_count": 68,
   "metadata": {},
   "outputs": [],
   "source": [
    "# calculate_and_plot_ROC_AUC(model_name='dense_2')"
   ]
  },
  {
   "cell_type": "markdown",
   "metadata": {},
   "source": [
    "## Excercise 2\n",
    "*It is possible to construct a neural network model that is equivalent to the model above, however, only using convolutional layers (i.e. without using any fully connected or \"dense\" layers). Construct and train such a model.*"
   ]
  },
  {
   "cell_type": "code",
   "execution_count": 69,
   "metadata": {
    "scrolled": true
   },
   "outputs": [
    {
     "name": "stdout",
     "output_type": "stream",
     "text": [
      "(None, 96, 96, 32)\n",
      "(None, 24, 24, 32)\n",
      "(None, 24, 24, 64)\n",
      "(None, 6, 6, 64)\n",
      "(None, 6, 6, 64)\n",
      "(None, 1, 1, 64)\n",
      "(None, 1, 1, 1)\n",
      "(None, 1)\n",
      "(None, 1)\n",
      "Found 144000 images belonging to 2 classes.\n",
      "Found 16000 images belonging to 2 classes.\n",
      "Epoch 1/3\n",
      "4500/4500 [==============================] - ETA: 0s - loss: 0.5395 - auc_10: 0.8041 - accuracy: 0.7240\n",
      "Epoch 1: val_loss improved from inf to 0.43140, saving model to conv_3_weights.hdf5\n",
      "4500/4500 [==============================] - 1023s 227ms/step - loss: 0.5395 - auc_10: 0.8041 - accuracy: 0.7240 - val_loss: 0.4314 - val_auc_10: 0.8876 - val_accuracy: 0.8139\n",
      "Epoch 2/3\n"
     ]
    },
    {
     "name": "stderr",
     "output_type": "stream",
     "text": [
      "c:\\Users\\20213002\\.conda\\envs\\8p361\\lib\\site-packages\\keras\\src\\engine\\training.py:3000: UserWarning: You are saving your model as an HDF5 file via `model.save()`. This file format is considered legacy. We recommend using instead the native Keras format, e.g. `model.save('my_model.keras')`.\n",
      "  saving_api.save_model(\n"
     ]
    },
    {
     "name": "stdout",
     "output_type": "stream",
     "text": [
      "4500/4500 [==============================] - ETA: 0s - loss: 0.4493 - auc_10: 0.8733 - accuracy: 0.7980\n",
      "Epoch 2: val_loss did not improve from 0.43140\n",
      "4500/4500 [==============================] - 953s 212ms/step - loss: 0.4493 - auc_10: 0.8733 - accuracy: 0.7980 - val_loss: 0.4770 - val_auc_10: 0.8891 - val_accuracy: 0.7778\n",
      "Epoch 3/3\n",
      "4500/4500 [==============================] - ETA: 0s - loss: 0.3987 - auc_10: 0.9026 - accuracy: 0.8249\n",
      "Epoch 3: val_loss improved from 0.43140 to 0.37614, saving model to conv_3_weights.hdf5\n",
      "4500/4500 [==============================] - 773s 172ms/step - loss: 0.3987 - auc_10: 0.9026 - accuracy: 0.8249 - val_loss: 0.3761 - val_auc_10: 0.9178 - val_accuracy: 0.8394\n",
      "500/500 [==============================] - 17s 33ms/step - loss: 0.3761 - auc_10: 0.9178 - accuracy: 0.8394\n",
      "Loss: 0.37613534927368164\n",
      "Accuracy: 0.9178466796875\n",
      "500/500 [==============================] - 16s 33ms/step\n",
      "              precision    recall  f1-score   support\n",
      "\n",
      "           0       0.86      0.81      0.83      8000\n",
      "           1       0.82      0.87      0.84      8000\n",
      "\n",
      "    accuracy                           0.84     16000\n",
      "   macro avg       0.84      0.84      0.84     16000\n",
      "weighted avg       0.84      0.84      0.84     16000\n",
      "\n",
      "[[6499 1501]\n",
      " [1069 6931]]\n"
     ]
    },
    {
     "data": {
      "image/png": "[encoded data removed]",
      "text/plain": [
       "<Figure size 800x600 with 1 Axes>"
      ]
     },
     "metadata": {},
     "output_type": "display_data"
    },
    {
     "name": "stdout",
     "output_type": "stream",
     "text": [
      "AUC: 0.9180051015624999\n"
     ]
    }
   ],
   "source": [
    "calculate_and_plot_ROC_AUC(type='conv', model_name='conv_3')"
   ]
  },
  {
   "cell_type": "markdown",
   "metadata": {},
   "source": [
    "## Excercise 3\n",
    "*Use the kaggle_submission.py file to prepare and submit results for evaluation to Kaggle. What is the result of the evaluation on the test set? How does it compare to the evaluation that you performed on the validation set?* "
   ]
  },
  {
   "cell_type": "code",
   "execution_count": null,
   "metadata": {},
   "outputs": [],
   "source": []
  }
 ],
 "metadata": {
  "kernelspec": {
   "display_name": "Python 3",
   "language": "python",
   "name": "python3"
  },
  "language_info": {
   "codemirror_mode": {
    "name": "ipython",
    "version": 3
   },
   "file_extension": ".py",
   "mimetype": "text/x-python",
   "name": "python",
   "nbconvert_exporter": "python",
   "pygments_lexer": "ipython3",
   "version": "3.8.18"
  }
 },
 "nbformat": 4,
 "nbformat_minor": 2
}
